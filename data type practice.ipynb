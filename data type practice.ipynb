{
 "cells": [
  {
   "cell_type": "markdown",
   "id": "fed1187e",
   "metadata": {},
   "source": [
    "Integer:is a whole number without decimal point such as X=10,y=25,\n",
    "string:ia a collection of characters,words,or sentences enclosed with quotation marks \"\"\n",
    "name = \"musa\"\n",
    "message = \"i love python\"\n",
    "Float: is a number that has a decimal point \n",
    "price = 10.5\n",
    "temperature = 43.5\n",
    "Boolean:true or false valves only \n",
    "if fan is on=true\n",
    "if fan is off= false \n"
   ]
  },
  {
   "cell_type": "code",
   "execution_count": 1,
   "id": "c81ab26a",
   "metadata": {},
   "outputs": [
    {
     "name": "stdout",
     "output_type": "stream",
     "text": [
      "20\n",
      "95\n"
     ]
    }
   ],
   "source": [
    "#intger example \n",
    "age = 20\n",
    "score = 95\n",
    "print(age)\n",
    "print(score)\n"
   ]
  },
  {
   "cell_type": "code",
   "execution_count": 2,
   "id": "1a3d8a2d",
   "metadata": {},
   "outputs": [
    {
     "name": "stdout",
     "output_type": "stream",
     "text": [
      "musa ibrar\n",
      "learing python is fun!\n"
     ]
    }
   ],
   "source": [
    "#string example\n",
    "name = \"musa ibrar\"\n",
    "message = \"learing python is fun!\"\n",
    "print(name)\n",
    "print(message)"
   ]
  },
  {
   "cell_type": "code",
   "execution_count": 3,
   "id": "e90c2a81",
   "metadata": {},
   "outputs": [
    {
     "name": "stdout",
     "output_type": "stream",
     "text": [
      "49.99\n",
      "36.6\n"
     ]
    }
   ],
   "source": [
    "#float example \n",
    "price = 49.99\n",
    "temperature = 36.6\n",
    "print(price)\n",
    "print(temperature)"
   ]
  },
  {
   "cell_type": "code",
   "execution_count": null,
   "id": "73067bdf",
   "metadata": {},
   "outputs": [],
   "source": [
    "# Boolean example\n",
    "is_student = True\n",
    "is_tired = False\n",
    "print(is_student)\n",
    "print(is_tired)\n"
   ]
  }
 ],
 "metadata": {
  "kernelspec": {
   "display_name": "Python 3",
   "language": "python",
   "name": "python3"
  },
  "language_info": {
   "codemirror_mode": {
    "name": "ipython",
    "version": 3
   },
   "file_extension": ".py",
   "mimetype": "text/x-python",
   "name": "python",
   "nbconvert_exporter": "python",
   "pygments_lexer": "ipython3",
   "version": "3.12.9"
  }
 },
 "nbformat": 4,
 "nbformat_minor": 5
}
